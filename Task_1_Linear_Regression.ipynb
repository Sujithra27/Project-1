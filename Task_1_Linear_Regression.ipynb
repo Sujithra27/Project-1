{
  "nbformat": 4,
  "nbformat_minor": 0,
  "metadata": {
    "colab": {
      "name": "Task 1 Linear Regression",
      "provenance": [],
      "authorship_tag": "ABX9TyPihXcfCkTEPvthZzSBg3Nc",
      "include_colab_link": true
    },
    "kernelspec": {
      "name": "python3",
      "display_name": "Python 3"
    },
    "language_info": {
      "name": "python"
    }
  },
  "cells": [
    {
      "cell_type": "markdown",
      "metadata": {
        "id": "view-in-github",
        "colab_type": "text"
      },
      "source": [
        "<a href=\"https://colab.research.google.com/github/Sujithra27/Project-1/blob/main/Task_1_Linear_Regression.ipynb\" target=\"_parent\"><img src=\"https://colab.research.google.com/assets/colab-badge.svg\" alt=\"Open In Colab\"/></a>"
      ]
    },
    {
      "cell_type": "markdown",
      "metadata": {
        "id": "8IIJnX77m10l"
      },
      "source": [
        "**The Sparks Foundation #GRIP 2021 internship**\n",
        "\n",
        "**Task 1 Linear Regression**\n",
        "## By Sujithra Baskaran\n"
      ]
    },
    {
      "cell_type": "markdown",
      "metadata": {
        "id": "1w09PR3InfM5"
      },
      "source": [
        "**Problem Satatement:**\n",
        "\n",
        "Predict the percentage of an student based on the no. of study hours, and What will be predicted score if a student studies for 9.25 hrs/ day?\n",
        "<hr>\n",
        "\n",
        "**Dataset:**\n",
        "\n",
        "url: http://bit.ly/w-data\n",
        "\n",
        "\n"
      ]
    },
    {
      "cell_type": "markdown",
      "metadata": {
        "id": "VuygFDs8m4k9"
      },
      "source": [
        ""
      ]
    },
    {
      "cell_type": "code",
      "metadata": {
        "id": "TVAshIu5m5Bk"
      },
      "source": [
        "import pandas as pd\n",
        "import numpy as np\n",
        "import matplotlib.pyplot as plt\n"
      ],
      "execution_count": null,
      "outputs": []
    },
    {
      "cell_type": "code",
      "metadata": {
        "colab": {
          "base_uri": "https://localhost:8080/",
          "height": 204
        },
        "id": "LycvuCI6m7dp",
        "outputId": "0e7259d8-9c83-4fb0-9b73-445693325703"
      },
      "source": [
        "url=\"http://bit.ly/w-data\"\n",
        "data=pd.read_csv(url)\n",
        "data.head()"
      ],
      "execution_count": null,
      "outputs": [
        {
          "output_type": "execute_result",
          "data": {
            "text/html": [
              "<div>\n",
              "<style scoped>\n",
              "    .dataframe tbody tr th:only-of-type {\n",
              "        vertical-align: middle;\n",
              "    }\n",
              "\n",
              "    .dataframe tbody tr th {\n",
              "        vertical-align: top;\n",
              "    }\n",
              "\n",
              "    .dataframe thead th {\n",
              "        text-align: right;\n",
              "    }\n",
              "</style>\n",
              "<table border=\"1\" class=\"dataframe\">\n",
              "  <thead>\n",
              "    <tr style=\"text-align: right;\">\n",
              "      <th></th>\n",
              "      <th>Hours</th>\n",
              "      <th>Scores</th>\n",
              "    </tr>\n",
              "  </thead>\n",
              "  <tbody>\n",
              "    <tr>\n",
              "      <th>0</th>\n",
              "      <td>2.5</td>\n",
              "      <td>21</td>\n",
              "    </tr>\n",
              "    <tr>\n",
              "      <th>1</th>\n",
              "      <td>5.1</td>\n",
              "      <td>47</td>\n",
              "    </tr>\n",
              "    <tr>\n",
              "      <th>2</th>\n",
              "      <td>3.2</td>\n",
              "      <td>27</td>\n",
              "    </tr>\n",
              "    <tr>\n",
              "      <th>3</th>\n",
              "      <td>8.5</td>\n",
              "      <td>75</td>\n",
              "    </tr>\n",
              "    <tr>\n",
              "      <th>4</th>\n",
              "      <td>3.5</td>\n",
              "      <td>30</td>\n",
              "    </tr>\n",
              "  </tbody>\n",
              "</table>\n",
              "</div>"
            ],
            "text/plain": [
              "   Hours  Scores\n",
              "0    2.5      21\n",
              "1    5.1      47\n",
              "2    3.2      27\n",
              "3    8.5      75\n",
              "4    3.5      30"
            ]
          },
          "metadata": {
            "tags": []
          },
          "execution_count": 30
        }
      ]
    },
    {
      "cell_type": "code",
      "metadata": {
        "colab": {
          "base_uri": "https://localhost:8080/"
        },
        "id": "4ymuCYStm7y8",
        "outputId": "d0d0504b-75d6-4eba-8053-b574d6ef6b59"
      },
      "source": [
        "data.shape"
      ],
      "execution_count": null,
      "outputs": [
        {
          "output_type": "execute_result",
          "data": {
            "text/plain": [
              "(25, 2)"
            ]
          },
          "metadata": {
            "tags": []
          },
          "execution_count": 31
        }
      ]
    },
    {
      "cell_type": "code",
      "metadata": {
        "colab": {
          "base_uri": "https://localhost:8080/",
          "height": 295
        },
        "id": "fMQZN_Ga4yan",
        "outputId": "68ad93fd-66c9-4054-e6d7-18b3362f34f7"
      },
      "source": [
        "x=data['Hours']\n",
        "y=data['Scores']\n",
        "plt.scatter(x,y)\n",
        "plt.xlabel('Hours studied')\n",
        "plt.ylabel('Percentage acquired by a student')\n",
        "plt.title('Percentage Vs Scores')\n",
        "plt.show()"
      ],
      "execution_count": null,
      "outputs": [
        {
          "output_type": "display_data",
          "data": {
            "image/png": "[encoded data removed]",
            "text/plain": [
              "<Figure size 432x288 with 1 Axes>"
            ]
          },
          "metadata": {
            "tags": [],
            "needs_background": "light"
          }
        }
      ]
    },
    {
      "cell_type": "code",
      "metadata": {
        "colab": {
          "base_uri": "https://localhost:8080/"
        },
        "id": "vdmxc02-9j2u",
        "outputId": "f8ba1aad-aa92-40e5-b499-6fc30558801c"
      },
      "source": [
        "X = data.iloc[:,:-1].values  \n",
        "Y= data.iloc[:, 1].values  \n",
        "print(X)\n",
        "print(Y)"
      ],
      "execution_count": null,
      "outputs": [
        {
          "output_type": "stream",
          "text": [
            "[[2.5]\n",
            " [5.1]\n",
            " [3.2]\n",
            " [8.5]\n",
            " [3.5]\n",
            " [1.5]\n",
            " [9.2]\n",
            " [5.5]\n",
            " [8.3]\n",
            " [2.7]\n",
            " [7.7]\n",
            " [5.9]\n",
            " [4.5]\n",
            " [3.3]\n",
            " [1.1]\n",
            " [8.9]\n",
            " [2.5]\n",
            " [1.9]\n",
            " [6.1]\n",
            " [7.4]\n",
            " [2.7]\n",
            " [4.8]\n",
            " [3.8]\n",
            " [6.9]\n",
            " [7.8]]\n",
            "[21 47 27 75 30 20 88 60 81 25 85 62 41 42 17 95 30 24 67 69 30 54 35 76\n",
            " 86]\n"
          ],
          "name": "stdout"
        }
      ]
    },
    {
      "cell_type": "code",
      "metadata": {
        "id": "oM0yEB5UmlMf"
      },
      "source": [
        "from sklearn.model_selection import train_test_split\n",
        "xtrain,xtest,ytrain,ytest=train_test_split(X,Y,test_size=0.2,random_state=0)\n"
      ],
      "execution_count": null,
      "outputs": []
    },
    {
      "cell_type": "code",
      "metadata": {
        "colab": {
          "base_uri": "https://localhost:8080/"
        },
        "id": "NiH3rOe9m-Ta",
        "outputId": "2d3c9828-ad1e-4c60-9ada-7415680182af"
      },
      "source": [
        "print(xtrain)\n",
        "print(xtest)\n",
        "print(ytrain)\n",
        "print(ytest)"
      ],
      "execution_count": null,
      "outputs": [
        {
          "output_type": "stream",
          "text": [
            "[[3.8]\n",
            " [1.9]\n",
            " [7.8]\n",
            " [6.9]\n",
            " [1.1]\n",
            " [5.1]\n",
            " [7.7]\n",
            " [3.3]\n",
            " [8.3]\n",
            " [9.2]\n",
            " [6.1]\n",
            " [3.5]\n",
            " [2.7]\n",
            " [5.5]\n",
            " [2.7]\n",
            " [8.5]\n",
            " [2.5]\n",
            " [4.8]\n",
            " [8.9]\n",
            " [4.5]]\n",
            "[[1.5]\n",
            " [3.2]\n",
            " [7.4]\n",
            " [2.5]\n",
            " [5.9]]\n",
            "[35 24 86 76 17 47 85 42 81 88 67 30 25 60 30 75 21 54 95 41]\n",
            "[20 27 69 30 62]\n"
          ],
          "name": "stdout"
        }
      ]
    },
    {
      "cell_type": "code",
      "metadata": {
        "colab": {
          "base_uri": "https://localhost:8080/"
        },
        "id": "XryLj3L1mMVQ",
        "outputId": "90d013ab-95f3-441e-e633-51d8e6f4db05"
      },
      "source": [
        "from sklearn.linear_model import LinearRegression\n",
        "lr=LinearRegression()\n",
        "lr.fit(xtrain,ytrain) "
      ],
      "execution_count": null,
      "outputs": [
        {
          "output_type": "execute_result",
          "data": {
            "text/plain": [
              "LinearRegression(copy_X=True, fit_intercept=True, n_jobs=None, normalize=False)"
            ]
          },
          "metadata": {
            "tags": []
          },
          "execution_count": 36
        }
      ]
    },
    {
      "cell_type": "code",
      "metadata": {
        "colab": {
          "base_uri": "https://localhost:8080/",
          "height": 265
        },
        "id": "iPmLOcstoURB",
        "outputId": "d7d84f51-edfb-41cb-eae0-26f9c7a99b84"
      },
      "source": [
        "line = lr.intercept_+lr.coef_*X\n",
        "\n",
        "# Plotting for the test data\n",
        "plt.scatter(X, Y)\n",
        "plt.plot(X, line);\n",
        "plt.show()"
      ],
      "execution_count": null,
      "outputs": [
        {
          "output_type": "display_data",
          "data": {
            "image/png": "[encoded data removed]",
            "text/plain": [
              "<Figure size 432x288 with 1 Axes>"
            ]
          },
          "metadata": {
            "tags": [],
            "needs_background": "light"
          }
        }
      ]
    },
    {
      "cell_type": "code",
      "metadata": {
        "colab": {
          "base_uri": "https://localhost:8080/"
        },
        "id": "Qze3cCMZoj2n",
        "outputId": "7bfb0bf7-359f-4711-c7c8-605d714e2553"
      },
      "source": [
        "ypred=lr.predict(xtest)\n",
        "print(ytest)\n",
        "print(ypred)"
      ],
      "execution_count": null,
      "outputs": [
        {
          "output_type": "stream",
          "text": [
            "[20 27 69 30 62]\n",
            "[16.88414476 33.73226078 75.357018   26.79480124 60.49103328]\n"
          ],
          "name": "stdout"
        }
      ]
    },
    {
      "cell_type": "code",
      "metadata": {
        "colab": {
          "base_uri": "https://localhost:8080/"
        },
        "id": "QItxXt5lovt5",
        "outputId": "3462f924-3589-432b-f1f5-a1aa9a94116e"
      },
      "source": [
        "df=pd.DataFrame({'Actual': ytest, 'Predicted':ypred})\n",
        "print(df)"
      ],
      "execution_count": null,
      "outputs": [
        {
          "output_type": "stream",
          "text": [
            "   Actual  Predicted\n",
            "0      20  16.884145\n",
            "1      27  33.732261\n",
            "2      69  75.357018\n",
            "3      30  26.794801\n",
            "4      62  60.491033\n"
          ],
          "name": "stdout"
        }
      ]
    },
    {
      "cell_type": "code",
      "metadata": {
        "colab": {
          "base_uri": "https://localhost:8080/"
        },
        "id": "yPwlCIMYpg3U",
        "outputId": "2f1bbf47-58e0-4e5f-a9ba-79c920e88625"
      },
      "source": [
        "hours = [[9.25]]\n",
        "own_pred = lr.predict(hours)\n",
        "print(\"No of Hours = {}\".format(hours))\n",
        "print(\"Predicted Score = {}\".format(own_pred[0]))"
      ],
      "execution_count": null,
      "outputs": [
        {
          "output_type": "stream",
          "text": [
            "No of Hours = [[9.25]]\n",
            "Predicted Score = 93.69173248737539\n"
          ],
          "name": "stdout"
        }
      ]
    },
    {
      "cell_type": "code",
      "metadata": {
        "colab": {
          "base_uri": "https://localhost:8080/"
        },
        "id": "FbrnloSyqD_K",
        "outputId": "69c7d3df-502c-4225-d9a0-bf153c0f1395"
      },
      "source": [
        "from sklearn import metrics  \n",
        "print('Mean Absolute Error:', \n",
        "      metrics.mean_absolute_error(ytest, ypred))"
      ],
      "execution_count": null,
      "outputs": [
        {
          "output_type": "stream",
          "text": [
            "Mean Absolute Error: 4.183859899002982\n"
          ],
          "name": "stdout"
        }
      ]
    },
    {
      "cell_type": "markdown",
      "metadata": {
        "id": "UgztDjeH6BC6"
      },
      "source": [
        ""
      ]
    }
  ]
}